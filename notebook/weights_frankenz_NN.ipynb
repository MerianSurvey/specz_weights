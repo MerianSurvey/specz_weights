{
 "cells": [
  {
   "cell_type": "code",
   "execution_count": 1,
   "metadata": {},
   "outputs": [],
   "source": [
    "import numpy as np\n",
    "import matplotlib\n",
    "from matplotlib import pyplot as plt\n",
    "from astropy.io import fits\n",
    "\n",
    "# josh's frankenz\n",
    "import frankenz as fz\n",
    "\n",
    "%matplotlib inline"
   ]
  },
  {
   "cell_type": "markdown",
   "metadata": {},
   "source": [
    "# Catalog Setup"
   ]
  },
  {
   "cell_type": "code",
   "execution_count": 12,
   "metadata": {},
   "outputs": [],
   "source": [
    "f = '/Users/josephwick/Documents/College/Merian/SOM/COSMOS2015_r23.6_SOM.fits'"
   ]
  },
  {
   "cell_type": "code",
   "execution_count": 13,
   "metadata": {},
   "outputs": [
    {
     "name": "stderr",
     "output_type": "stream",
     "text": [
      "/Users/josephwick/anaconda3/lib/python3.7/site-packages/ipykernel_launcher.py:27: RuntimeWarning: invalid value encountered in greater\n"
     ]
    }
   ],
   "source": [
    "# load train data\n",
    "# yifei's catalog with specz flag ('spec_z' == 1)\n",
    "# We train on the spectroscopic subset of the entire, representative, catalog\n",
    "\n",
    "data=fits.open(f)[1].data\n",
    "data = data[data['z_type']==1]\n",
    "\n",
    "# extract magnitudes\n",
    "# we're using g,r,i,z,y band magnitudes\n",
    "# Josh's paper talks about using magnitudes (or \"flux density\") for weights\n",
    "\n",
    "# missing aphot_train that josh uses\n",
    "# has a-g, ... a-y labels\n",
    "\n",
    "phot_train = np.c_[data['g_cmodel_mag'], \n",
    "                   data['r_cmodel_mag'],\n",
    "                   data['i_cmodel_mag'],\n",
    "                   data['z_cmodel_mag'],\n",
    "                   data['y_cmodel_mag']]# * 1e-29 #* aphot_train\n",
    "\n",
    "err_train = np.c_[data['g_cmodel_flux_err'], \n",
    "                  data['r_cmodel_flux_err'], \n",
    "                  data['i_cmodel_flux_err'],\n",
    "                  data['z_cmodel_flux_err'],\n",
    "                  data['y_cmodel_flux_err']]# * 1e-29 #* aphot_train\n",
    "\n",
    "mask_train = (err_train > 0.) & np.isfinite(err_train) & np.isfinite(phot_train)\n",
    "\n",
    "# remove any sources with non-detections\n",
    "sel = mask_train.sum(axis=1) == 5\n",
    "phot_train, err_train, mask_train = phot_train[sel], err_train[sel], mask_train[sel]"
   ]
  },
  {
   "cell_type": "code",
   "execution_count": 3,
   "metadata": {},
   "outputs": [
    {
     "name": "stderr",
     "output_type": "stream",
     "text": [
      "/Users/josephwick/anaconda3/lib/python3.7/site-packages/ipykernel_launcher.py:19: RuntimeWarning: invalid value encountered in greater\n"
     ]
    }
   ],
   "source": [
    "# load calib data\n",
    "# yifei's catalog, representative\n",
    "# we want to calibrate the specz subset to the representative catalog\n",
    "\n",
    "data=fits.open(f)[1].data\n",
    "\n",
    "phot_calib = np.c_[data['g_cmodel_mag'],\n",
    "                   data['r_cmodel_mag'],\n",
    "                   data['i_cmodel_mag'],\n",
    "                   data['z_cmodel_mag'],\n",
    "                   data['y_cmodel_mag']]# * 1e-29 #* aphot_calib (josh uses only aphot_calib here no '1e...')\n",
    "\n",
    "err_calib = np.c_[data['g_cmodel_flux_err'],\n",
    "                  data['r_cmodel_flux_err'],\n",
    "                  data['i_cmodel_flux_err'],\n",
    "                  data['z_cmodel_flux_err'],\n",
    "                  data['y_cmodel_flux_err']]# * 1e-29 #* aphot_calib (josh uses only aphot_calib here no '1e...')\n",
    "\n",
    "mask_calib = (err_calib > 0.) & np.isfinite(err_calib) & np.isfinite(phot_calib)\n",
    "\n",
    "# remove any sources with non-detections\n",
    "sel2 = mask_calib.sum(axis=1) == 5\n",
    "phot_calib, err_calib, mask_calib = phot_calib[sel2], err_calib[sel2], mask_calib[sel2]"
   ]
  },
  {
   "cell_type": "code",
   "execution_count": 4,
   "metadata": {},
   "outputs": [],
   "source": [
    "skynoise = np.median(err_calib, axis=0)\n",
    "# josh used the calibration set for this\n",
    "\n",
    "zeropoint = 10**(-0.4 * 48.6)\n",
    "# unsure where these values come from\n",
    "# = 3.6e-20"
   ]
  },
  {
   "cell_type": "markdown",
   "metadata": {},
   "source": [
    "# Weights"
   ]
  },
  {
   "cell_type": "code",
   "execution_count": 5,
   "metadata": {},
   "outputs": [
    {
     "name": "stderr",
     "output_type": "stream",
     "text": [
      "25/25 KDTrees constructed\n"
     ]
    }
   ],
   "source": [
    "np.random.seed(2018)\n",
    "# initialize fitting object\n",
    "from frankenz.fitting import NearestNeighbors\n",
    "\n",
    "# initialize NN object\n",
    "NN = NearestNeighbors(phot_train, err_train, mask_train,\n",
    "                      feature_map='luptitude', K=25, \n",
    "                      fmap_args=[skynoise, zeropoint])"
   ]
  },
  {
   "cell_type": "code",
   "execution_count": 6,
   "metadata": {},
   "outputs": [],
   "source": [
    "np.random.seed(58372)"
   ]
  },
  {
   "cell_type": "code",
   "execution_count": 7,
   "metadata": {},
   "outputs": [],
   "source": [
    "saveas = 'specz-weights.npy'"
   ]
  },
  {
   "cell_type": "code",
   "execution_count": 8,
   "metadata": {},
   "outputs": [
    {
     "name": "stderr",
     "output_type": "stream",
     "text": [
      "Fitting object 99411/99411\n"
     ]
    }
   ],
   "source": [
    "# generate calibration weights\n",
    "\n",
    "# fit calibration objects\n",
    "NN.fit(phot_calib, np.sqrt(err_calib**2 + (0.02*phot_calib)**2), \n",
    "       mask_calib, k=10, lprob_kwargs={'dim_prior': False})\n",
    "\n",
    "# get calibration weights from predictions\n",
    "from scipy.special import logsumexp\n",
    "Ntrain, Ncalib = len(phot_train), len(phot_calib)\n",
    "calib_wts = np.zeros(Ntrain)\n",
    "for i in range(Ncalib):\n",
    "    n = NN.Nneighbors[i]\n",
    "    idxs = NN.neighbors[i, :n]\n",
    "    logwts = NN.fit_lnprob[i, :n]\n",
    "    wts = np.exp(logwts - logsumexp(logwts))\n",
    "    calib_wts[idxs] += wts\n",
    "calib_wts *= float(Ntrain) / Ncalib\n",
    "\n",
    "np.save(saveas, calib_wts)"
   ]
  },
  {
   "cell_type": "code",
   "execution_count": 9,
   "metadata": {},
   "outputs": [],
   "source": [
    "wts = np.load(saveas)\n",
    "# objets that get used more have larger weight"
   ]
  },
  {
   "cell_type": "markdown",
   "metadata": {},
   "source": [
    "# Plotting Magnitude and Weight"
   ]
  },
  {
   "cell_type": "code",
   "execution_count": 10,
   "metadata": {},
   "outputs": [],
   "source": [
    "# I used r here because it has the cleanest cutoff at 23.6 of all the bands\n",
    "# plots are virtually identical across bands\n",
    "data=fits.open(f)[1].data\n",
    "rBand = data['r_cmodel_mag']\n",
    "rBand = rBand[data['z_type']==1]\n",
    "rBand = rBand[sel]"
   ]
  },
  {
   "cell_type": "code",
   "execution_count": 11,
   "metadata": {},
   "outputs": [
    {
     "data": {
      "text/plain": [
       "Text(0, 0.5, 'assigned weight')"
      ]
     },
     "execution_count": 11,
     "metadata": {},
     "output_type": "execute_result"
    },
    {
     "data": {
      "image/png": "[encoded data removed]",
      "text/plain": [
       "<Figure size 720x720 with 1 Axes>"
      ]
     },
     "metadata": {
      "needs_background": "light"
     },
     "output_type": "display_data"
    }
   ],
   "source": [
    "# plotting magnitude vs weight\n",
    "# we expect galaxies that get used more to have higher weights\n",
    "\n",
    "fig = plt.figure(figsize=(10,10))\n",
    "plt.scatter(rBand, wts, s=2)\n",
    "\n",
    "plt.title('data=mag, train=phot')\n",
    "plt.xlabel('magnitude')\n",
    "plt.ylabel('assigned weight')\n",
    "\n",
    "#plt.savefig('Magnitude vs Weight', format='pdf', dpi='figure')"
   ]
  },
  {
   "cell_type": "code",
   "execution_count": null,
   "metadata": {},
   "outputs": [],
   "source": []
  }
 ],
 "metadata": {
  "kernelspec": {
   "display_name": "Python 3",
   "language": "python",
   "name": "python3"
  },
  "language_info": {
   "codemirror_mode": {
    "name": "ipython",
    "version": 3
   },
   "file_extension": ".py",
   "mimetype": "text/x-python",
   "name": "python",
   "nbconvert_exporter": "python",
   "pygments_lexer": "ipython3",
   "version": "3.7.3"
  }
 },
 "nbformat": 4,
 "nbformat_minor": 4
}
