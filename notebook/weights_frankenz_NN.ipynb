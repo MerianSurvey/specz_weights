{
 "cells": [
  {
   "cell_type": "code",
   "execution_count": 1,
   "metadata": {},
   "outputs": [],
   "source": [
    "import numpy as np\n",
    "import matplotlib\n",
    "from matplotlib import pyplot as plt\n",
    "from astropy.io import fits\n",
    "\n",
    "# josh's frankenz\n",
    "import frankenz as fz\n",
    "\n",
    "%matplotlib inline"
   ]
  },
  {
   "cell_type": "markdown",
   "metadata": {},
   "source": [
    "# Catalog Setup"
   ]
  },
  {
   "cell_type": "code",
   "execution_count": 2,
   "metadata": {},
   "outputs": [
    {
     "name": "stderr",
     "output_type": "stream",
     "text": [
      "/Users/josephwick/anaconda3/lib/python3.7/site-packages/ipykernel_launcher.py:24: RuntimeWarning: invalid value encountered in greater\n"
     ]
    }
   ],
   "source": [
    "# load data\n",
    "# catalog provided by Yifei\n",
    "# representative \n",
    "data=fits.open('/Users/josephwick/Documents/College/Merian/SOM/COSMOS2015_r23.6_SOM.fits')[1].data\n",
    "\n",
    "# extract fluxes\n",
    "# we're using g,r,i,z,y band flux\n",
    "\n",
    "# missing aphot_calib that josh uses\n",
    "# has a-g, ... , a-y labels\n",
    "\n",
    "phot_train = np.c_[data['g_cmodel_flux'], \n",
    "                   data['r_cmodel_flux'],\n",
    "                   data['i_cmodel_flux'],\n",
    "                   data['z_cmodel_flux'],\n",
    "                   data['y_cmodel_flux']] * 1e-29 #* aphot_train\n",
    "\n",
    "err_train = np.c_[data['g_cmodel_flux_err'], \n",
    "                  data['r_cmodel_flux_err'], \n",
    "                  data['i_cmodel_flux_err'],\n",
    "                  data['z_cmodel_flux_err'],\n",
    "                  data['y_cmodel_flux_err']] * 1e-29 #* aphot_train\n",
    "\n",
    "mask_train = (err_train > 0.) & np.isfinite(err_train) & np.isfinite(phot_train)\n",
    "\n",
    "# remove any sources with non-detections\n",
    "sel = mask_train.sum(axis=1) == 5\n",
    "phot_train, err_train, mask_train = phot_train[sel], err_train[sel], mask_train[sel]"
   ]
  },
  {
   "cell_type": "code",
   "execution_count": 3,
   "metadata": {},
   "outputs": [
    {
     "name": "stderr",
     "output_type": "stream",
     "text": [
      "/Users/josephwick/anaconda3/lib/python3.7/site-packages/ipykernel_launcher.py:17: RuntimeWarning: invalid value encountered in greater\n"
     ]
    }
   ],
   "source": [
    "# load calib data\n",
    "# yifei's catalog with specz flag ('spec_z' == 1)\n",
    "data_specz = data[data['z_type']==1]\n",
    "\n",
    "phot_calib = np.c_[data_specz['g_cmodel_flux'],\n",
    "                   data_specz['r_cmodel_flux'],\n",
    "                   data_specz['i_cmodel_flux'],\n",
    "                   data_specz['z_cmodel_flux'],\n",
    "                   data_specz['y_cmodel_flux']] * 1e-29 #* aphot_calib (josh uses only aphot_calib here no '1e...')\n",
    "\n",
    "err_calib = np.c_[data_specz['g_cmodel_flux_err'],\n",
    "                  data_specz['r_cmodel_flux_err'],\n",
    "                  data_specz['i_cmodel_flux_err'],\n",
    "                  data_specz['z_cmodel_flux_err'],\n",
    "                  data_specz['y_cmodel_flux_err']] * 1e-29 #* aphot_calib (josh uses only aphot_calib here no '1e...')\n",
    "\n",
    "mask_calib = (err_calib > 0.) & np.isfinite(err_calib) & np.isfinite(phot_calib)\n",
    "\n",
    "# remove any sources with non-detections\n",
    "sel2 = mask_calib.sum(axis=1) == 5\n",
    "phot_calib, err_calib, mask_calib = phot_calib[sel2], err_calib[sel2], mask_calib[sel2]"
   ]
  },
  {
   "cell_type": "code",
   "execution_count": 4,
   "metadata": {},
   "outputs": [],
   "source": [
    "skynoise = np.median(err_calib, axis=0)\n",
    "#josh used the calibration set for this\n",
    "\n",
    "zeropoint = 10**(-0.4 * 48.6)\n",
    "# unsure where these values come from\n",
    "# = 3.6e-20\n",
    "\n",
    "mag_calib, magerr_calib = fz.pdf.luptitude(phot_calib, err_calib, \n",
    "                                           skynoise=skynoise,\n",
    "                                           zeropoints=zeropoint)"
   ]
  },
  {
   "cell_type": "markdown",
   "metadata": {},
   "source": [
    "# Weights"
   ]
  },
  {
   "cell_type": "code",
   "execution_count": 11,
   "metadata": {},
   "outputs": [
    {
     "name": "stderr",
     "output_type": "stream",
     "text": [
      "10/10 KDTrees constructed\n"
     ]
    }
   ],
   "source": [
    "np.random.seed(2018)\n",
    "# initialize fitting object\n",
    "from frankenz.fitting import NearestNeighbors\n",
    "\n",
    "# initialize NN object\n",
    "NN = NearestNeighbors(phot_train, err_train, mask_train,\n",
    "                      feature_map='luptitude', K=10, \n",
    "                      fmap_args=[skynoise, zeropoint])"
   ]
  },
  {
   "cell_type": "code",
   "execution_count": 12,
   "metadata": {},
   "outputs": [],
   "source": [
    "np.random.seed(58372)"
   ]
  },
  {
   "cell_type": "code",
   "execution_count": 14,
   "metadata": {},
   "outputs": [
    {
     "name": "stderr",
     "output_type": "stream",
     "text": [
      "Fitting object 21097/21097\n"
     ]
    }
   ],
   "source": [
    "# generate calibration weights\n",
    "\n",
    "# fit calibration objects\n",
    "NN.fit(phot_calib, np.sqrt(err_calib**2 + (0.02*phot_calib)**2), \n",
    "       mask_calib, k=10, lprob_kwargs={'dim_prior': False})\n",
    "\n",
    "# get calibration weights from predictions\n",
    "from scipy.special import logsumexp\n",
    "Ntrain, Ncalib = len(phot_train), len(phot_calib)\n",
    "calib_wts = np.zeros(Ntrain)\n",
    "for i in range(Ncalib):\n",
    "    n = NN.Nneighbors[i]\n",
    "    idxs = NN.neighbors[i, :n]\n",
    "    logwts = NN.fit_lnprob[i, :n]\n",
    "    wts = np.exp(logwts - logsumexp(logwts))\n",
    "    calib_wts[idxs] += wts\n",
    "calib_wts *= float(Ntrain) / Ncalib\n",
    "\n",
    "np.save('wl_weights.npy', calib_wts)"
   ]
  },
  {
   "cell_type": "code",
   "execution_count": 15,
   "metadata": {},
   "outputs": [],
   "source": [
    "wts = np.load('wl_weights.npy')\n",
    "# objets that get used more have larger weight"
   ]
  },
  {
   "cell_type": "markdown",
   "metadata": {},
   "source": [
    "# Plotting Magnitude and Weight"
   ]
  },
  {
   "cell_type": "code",
   "execution_count": 16,
   "metadata": {},
   "outputs": [],
   "source": [
    "gBand = data['g_cmodel_mag']\n",
    "gBand = gBand[sel2]\n",
    "\n",
    "rBand = data['r_cmodel_mag']\n",
    "rBand = rBand[sel2]\n",
    "\n",
    "iBand = data['i_cmodel_mag']\n",
    "iBand = iBand[sel2]\n",
    "\n",
    "zBand = data['z_cmodel_mag']\n",
    "zBand = zBand[sel2]\n",
    "\n",
    "yBand = data['y_cmodel_mag']\n",
    "yBand = yBand[sel2]"
   ]
  },
  {
   "cell_type": "code",
   "execution_count": 17,
   "metadata": {},
   "outputs": [
    {
     "ename": "ValueError",
     "evalue": "x and y must be the same size",
     "output_type": "error",
     "traceback": [
      "\u001b[0;31m---------------------------------------------------------------------------\u001b[0m",
      "\u001b[0;31mValueError\u001b[0m                                Traceback (most recent call last)",
      "\u001b[0;32m<ipython-input-17-2fdeebc654c4>\u001b[0m in \u001b[0;36m<module>\u001b[0;34m\u001b[0m\n\u001b[1;32m      9\u001b[0m \u001b[0maxs\u001b[0m\u001b[0;34m[\u001b[0m\u001b[0;36m0\u001b[0m\u001b[0;34m]\u001b[0m\u001b[0;34m.\u001b[0m\u001b[0mset_ylabel\u001b[0m\u001b[0;34m(\u001b[0m\u001b[0;34m\"quantity\"\u001b[0m\u001b[0;34m)\u001b[0m\u001b[0;34m\u001b[0m\u001b[0;34m\u001b[0m\u001b[0m\n\u001b[1;32m     10\u001b[0m \u001b[0;34m\u001b[0m\u001b[0m\n\u001b[0;32m---> 11\u001b[0;31m \u001b[0maxs\u001b[0m\u001b[0;34m[\u001b[0m\u001b[0;36m1\u001b[0m\u001b[0;34m]\u001b[0m\u001b[0;34m.\u001b[0m\u001b[0mscatter\u001b[0m\u001b[0;34m(\u001b[0m\u001b[0mband\u001b[0m\u001b[0;34m,\u001b[0m \u001b[0mwts\u001b[0m\u001b[0;34m,\u001b[0m \u001b[0ms\u001b[0m\u001b[0;34m=\u001b[0m\u001b[0;36m2\u001b[0m\u001b[0;34m)\u001b[0m\u001b[0;34m\u001b[0m\u001b[0;34m\u001b[0m\u001b[0m\n\u001b[0m\u001b[1;32m     12\u001b[0m \u001b[0maxs\u001b[0m\u001b[0;34m[\u001b[0m\u001b[0;36m1\u001b[0m\u001b[0;34m]\u001b[0m\u001b[0;34m.\u001b[0m\u001b[0mtitle\u001b[0m\u001b[0;34m.\u001b[0m\u001b[0mset_text\u001b[0m\u001b[0;34m(\u001b[0m\u001b[0;34m'Magnitude vs Weight'\u001b[0m\u001b[0;34m)\u001b[0m\u001b[0;34m\u001b[0m\u001b[0;34m\u001b[0m\u001b[0m\n\u001b[1;32m     13\u001b[0m \u001b[0maxs\u001b[0m\u001b[0;34m[\u001b[0m\u001b[0;36m1\u001b[0m\u001b[0;34m]\u001b[0m\u001b[0;34m.\u001b[0m\u001b[0mset_xlabel\u001b[0m\u001b[0;34m(\u001b[0m\u001b[0;34m'magnitude'\u001b[0m\u001b[0;34m)\u001b[0m\u001b[0;34m\u001b[0m\u001b[0;34m\u001b[0m\u001b[0m\n",
      "\u001b[0;32m~/anaconda3/lib/python3.7/site-packages/matplotlib/__init__.py\u001b[0m in \u001b[0;36minner\u001b[0;34m(ax, data, *args, **kwargs)\u001b[0m\n\u001b[1;32m   1597\u001b[0m     \u001b[0;32mdef\u001b[0m \u001b[0minner\u001b[0m\u001b[0;34m(\u001b[0m\u001b[0max\u001b[0m\u001b[0;34m,\u001b[0m \u001b[0;34m*\u001b[0m\u001b[0margs\u001b[0m\u001b[0;34m,\u001b[0m \u001b[0mdata\u001b[0m\u001b[0;34m=\u001b[0m\u001b[0;32mNone\u001b[0m\u001b[0;34m,\u001b[0m \u001b[0;34m**\u001b[0m\u001b[0mkwargs\u001b[0m\u001b[0;34m)\u001b[0m\u001b[0;34m:\u001b[0m\u001b[0;34m\u001b[0m\u001b[0;34m\u001b[0m\u001b[0m\n\u001b[1;32m   1598\u001b[0m         \u001b[0;32mif\u001b[0m \u001b[0mdata\u001b[0m \u001b[0;32mis\u001b[0m \u001b[0;32mNone\u001b[0m\u001b[0;34m:\u001b[0m\u001b[0;34m\u001b[0m\u001b[0;34m\u001b[0m\u001b[0m\n\u001b[0;32m-> 1599\u001b[0;31m             \u001b[0;32mreturn\u001b[0m \u001b[0mfunc\u001b[0m\u001b[0;34m(\u001b[0m\u001b[0max\u001b[0m\u001b[0;34m,\u001b[0m \u001b[0;34m*\u001b[0m\u001b[0mmap\u001b[0m\u001b[0;34m(\u001b[0m\u001b[0msanitize_sequence\u001b[0m\u001b[0;34m,\u001b[0m \u001b[0margs\u001b[0m\u001b[0;34m)\u001b[0m\u001b[0;34m,\u001b[0m \u001b[0;34m**\u001b[0m\u001b[0mkwargs\u001b[0m\u001b[0;34m)\u001b[0m\u001b[0;34m\u001b[0m\u001b[0;34m\u001b[0m\u001b[0m\n\u001b[0m\u001b[1;32m   1600\u001b[0m \u001b[0;34m\u001b[0m\u001b[0m\n\u001b[1;32m   1601\u001b[0m         \u001b[0mbound\u001b[0m \u001b[0;34m=\u001b[0m \u001b[0mnew_sig\u001b[0m\u001b[0;34m.\u001b[0m\u001b[0mbind\u001b[0m\u001b[0;34m(\u001b[0m\u001b[0max\u001b[0m\u001b[0;34m,\u001b[0m \u001b[0;34m*\u001b[0m\u001b[0margs\u001b[0m\u001b[0;34m,\u001b[0m \u001b[0;34m**\u001b[0m\u001b[0mkwargs\u001b[0m\u001b[0;34m)\u001b[0m\u001b[0;34m\u001b[0m\u001b[0;34m\u001b[0m\u001b[0m\n",
      "\u001b[0;32m~/anaconda3/lib/python3.7/site-packages/matplotlib/axes/_axes.py\u001b[0m in \u001b[0;36mscatter\u001b[0;34m(self, x, y, s, c, marker, cmap, norm, vmin, vmax, alpha, linewidths, verts, edgecolors, plotnonfinite, **kwargs)\u001b[0m\n\u001b[1;32m   4441\u001b[0m         \u001b[0my\u001b[0m \u001b[0;34m=\u001b[0m \u001b[0mnp\u001b[0m\u001b[0;34m.\u001b[0m\u001b[0mma\u001b[0m\u001b[0;34m.\u001b[0m\u001b[0mravel\u001b[0m\u001b[0;34m(\u001b[0m\u001b[0my\u001b[0m\u001b[0;34m)\u001b[0m\u001b[0;34m\u001b[0m\u001b[0;34m\u001b[0m\u001b[0m\n\u001b[1;32m   4442\u001b[0m         \u001b[0;32mif\u001b[0m \u001b[0mx\u001b[0m\u001b[0;34m.\u001b[0m\u001b[0msize\u001b[0m \u001b[0;34m!=\u001b[0m \u001b[0my\u001b[0m\u001b[0;34m.\u001b[0m\u001b[0msize\u001b[0m\u001b[0;34m:\u001b[0m\u001b[0;34m\u001b[0m\u001b[0;34m\u001b[0m\u001b[0m\n\u001b[0;32m-> 4443\u001b[0;31m             \u001b[0;32mraise\u001b[0m \u001b[0mValueError\u001b[0m\u001b[0;34m(\u001b[0m\u001b[0;34m\"x and y must be the same size\"\u001b[0m\u001b[0;34m)\u001b[0m\u001b[0;34m\u001b[0m\u001b[0;34m\u001b[0m\u001b[0m\n\u001b[0m\u001b[1;32m   4444\u001b[0m \u001b[0;34m\u001b[0m\u001b[0m\n\u001b[1;32m   4445\u001b[0m         \u001b[0;32mif\u001b[0m \u001b[0ms\u001b[0m \u001b[0;32mis\u001b[0m \u001b[0;32mNone\u001b[0m\u001b[0;34m:\u001b[0m\u001b[0;34m\u001b[0m\u001b[0;34m\u001b[0m\u001b[0m\n",
      "\u001b[0;31mValueError\u001b[0m: x and y must be the same size"
     ]
    },
    {
     "data": {
      "image/png": "[encoded data removed]",
      "text/plain": [
       "<Figure size 1080x576 with 2 Axes>"
      ]
     },
     "metadata": {
      "needs_background": "light"
     },
     "output_type": "display_data"
    }
   ],
   "source": [
    "band = iBand\n",
    "#all bands produce essentially the same plot\n",
    "\n",
    "fig, axs = plt.subplots(1,2, figsize=(15, 8))\n",
    "\n",
    "axs[0].hist(band)\n",
    "axs[0].title.set_text('Magnitude Quantity')\n",
    "axs[0].set_xlabel('magnitude')\n",
    "axs[0].set_ylabel(\"quantity\")\n",
    "\n",
    "axs[1].scatter(band, wts, s=2)\n",
    "axs[1].title.set_text('Magnitude vs Weight')\n",
    "axs[1].set_xlabel('magnitude')\n",
    "axs[1].set_ylabel('assigned weight')"
   ]
  },
  {
   "cell_type": "code",
   "execution_count": null,
   "metadata": {},
   "outputs": [],
   "source": []
  }
 ],
 "metadata": {
  "kernelspec": {
   "display_name": "Python 3",
   "language": "python",
   "name": "python3"
  },
  "language_info": {
   "codemirror_mode": {
    "name": "ipython",
    "version": 3
   },
   "file_extension": ".py",
   "mimetype": "text/x-python",
   "name": "python",
   "nbconvert_exporter": "python",
   "pygments_lexer": "ipython3",
   "version": "3.7.3"
  }
 },
 "nbformat": 4,
 "nbformat_minor": 4
}
