{
 "cells": [
  {
   "cell_type": "code",
   "execution_count": 1,
   "id": "5cb09a28-6b05-4314-a93a-4de2b8f69cbc",
   "metadata": {},
   "outputs": [],
   "source": [
    "import numpy as np\n",
    "import matplotlib\n",
    "from matplotlib import pyplot as plt\n",
    "from astropy.io import fits\n",
    "\n",
    "import random\n",
    "\n",
    "import sklearn\n",
    "from sklearn.linear_model import LinearRegression\n",
    "\n",
    "%matplotlib inline"
   ]
  },
  {
   "cell_type": "code",
   "execution_count": 18,
   "id": "7adb6aed-0d39-4ce3-ba88-98a59966ed03",
   "metadata": {},
   "outputs": [],
   "source": [
    "trainData = np.load('data/smDiv_n1000_data-p.npy')\n",
    "trainLabel= np.load('data/smDiv_n1000_label-p.npy')\n",
    "\n",
    "testData = np.load('data/smDiv_n100_data-p.npy')\n",
    "testLabel= np.load('data/smDiv_n100_label-p.npy')\n",
    "\n",
    "plotData = np.load('data/smDiv_n10_data-p.npy')\n",
    "plotLabel= np.load('data/smDiv_n10_label-p.npy')"
   ]
  },
  {
   "cell_type": "code",
   "execution_count": 19,
   "id": "9e59d122-bccb-4b1d-9b57-8ab587e5411a",
   "metadata": {},
   "outputs": [
    {
     "data": {
      "text/plain": [
       "0.8727338590057401"
      ]
     },
     "execution_count": 19,
     "metadata": {},
     "output_type": "execute_result"
    }
   ],
   "source": [
    "reg = LinearRegression().fit(trainData, trainLabel)\n",
    "reg.score(testData, testLabel)"
   ]
  },
  {
   "cell_type": "code",
   "execution_count": 20,
   "id": "e3e65d3b-e1b9-4aba-a10c-7484ecab3410",
   "metadata": {},
   "outputs": [
    {
     "name": "stdout",
     "output_type": "stream",
     "text": [
      "0.833701328181925\n"
     ]
    },
    {
     "data": {
      "image/png": "[encoded data removed]",
      "text/plain": [
       "<Figure size 720x720 with 1 Axes>"
      ]
     },
     "metadata": {
      "needs_background": "light"
     },
     "output_type": "display_data"
    }
   ],
   "source": [
    "preds = reg.predict(plotData)\n",
    "print(reg.score(plotData, plotLabel))\n",
    "\n",
    "fig = plt.figure(figsize=(10,10))\n",
    "\n",
    "x = np.linspace(1,len(preds),len(preds))\n",
    "plt.bar(x+0.2, preds, width=0.4, color='teal')\n",
    "plt.bar(x-0.2, plotLabel, width=0.4, color='purple')\n",
    "\n",
    "# prettify\n",
    "plt.title('Linear Regression Purity Prediction')\n",
    "plt.legend(['prediction', 'actual'])\n",
    "plt.xlabel('mass bin')\n",
    "plt.ylabel('purity')\n",
    "\n",
    "plt.savefig('purityLR.pdf')"
   ]
  },
  {
   "cell_type": "code",
   "execution_count": null,
   "id": "0cdc212f-8d39-4e2c-a92c-0166233e5153",
   "metadata": {},
   "outputs": [],
   "source": []
  }
 ],
 "metadata": {
  "kernelspec": {
   "display_name": "Python 3 (ipykernel)",
   "language": "python",
   "name": "python3"
  },
  "language_info": {
   "codemirror_mode": {
    "name": "ipython",
    "version": 3
   },
   "file_extension": ".py",
   "mimetype": "text/x-python",
   "name": "python",
   "nbconvert_exporter": "python",
   "pygments_lexer": "ipython3",
   "version": "3.9.6"
  }
 },
 "nbformat": 4,
 "nbformat_minor": 5
}
