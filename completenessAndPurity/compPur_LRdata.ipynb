{
 "cells": [
  {
   "cell_type": "code",
   "execution_count": 12,
   "id": "0a9d752f-98ab-4602-acbe-1c1650972eb7",
   "metadata": {},
   "outputs": [],
   "source": [
    "# makes data to try LR on for completeness/purity"
   ]
  },
  {
   "cell_type": "code",
   "execution_count": 1,
   "id": "c9784aa5-f012-4f57-82f8-823d6c5f5430",
   "metadata": {},
   "outputs": [],
   "source": [
    "import numpy as np\n",
    "import matplotlib\n",
    "from matplotlib import pyplot as plt\n",
    "from astropy.io import fits\n",
    "\n",
    "import random\n",
    "\n",
    "import sklearn\n",
    "from sklearn.linear_model import LinearRegression\n",
    "\n",
    "%matplotlib inline"
   ]
  },
  {
   "cell_type": "markdown",
   "id": "bb536f41-7b6b-4f6d-bebc-9d070e0a8d74",
   "metadata": {},
   "source": [
    "# Function definitions"
   ]
  },
  {
   "cell_type": "code",
   "execution_count": 2,
   "id": "eaf0410e-0593-423a-9a02-21d4f88773d4",
   "metadata": {},
   "outputs": [],
   "source": [
    "f = '/Users/josephwick/Documents/Data/merian/COSMOS2015_r23.6_SOM_v3.fits'\n",
    "wtsf = '../speczWeights/specz-weights.npy'"
   ]
  },
  {
   "cell_type": "markdown",
   "id": "55b4be55-2f84-48e0-b6b3-0140a59df517",
   "metadata": {},
   "source": [
    "## Getting weighted specz set"
   ]
  },
  {
   "cell_type": "code",
   "execution_count": 3,
   "id": "961b5737-1fe2-453d-91f3-61d4ac15192a",
   "metadata": {},
   "outputs": [],
   "source": [
    "def getSpeczData(fname):\n",
    "    data = fits.open(fname)[1].data\n",
    "    data = data[data['z_type']==1]\n",
    "\n",
    "    aphot = 10**(-0.4 * np.c_[data['a_g'], data['a_r'], data['a_i'], \n",
    "                                data['a_z'], data['a_y']])\n",
    "\n",
    "    spec_data = np.c_[data['g_cmodel_mag'],\n",
    "                     data['r_cmodel_mag'],\n",
    "                     data['i_cmodel_mag'],\n",
    "                     data['z_cmodel_mag'],\n",
    "                     data['y_cmodel_mag']] / aphot\n",
    "\n",
    "    err = np.c_[data['g_cmodel_flux_err'],\n",
    "                      data['r_cmodel_flux_err'],\n",
    "                      data['i_cmodel_flux_err'],\n",
    "                      data['z_cmodel_flux_err'],\n",
    "                      data['y_cmodel_flux_err']] / aphot\n",
    "\n",
    "    mask_calib = (err > 0.) & np.isfinite(err) & np.isfinite(spec_data)\n",
    "\n",
    "    # remove any sources with non-detections\n",
    "    sel = mask_calib.sum(axis=1) == 5\n",
    "    spec_data = spec_data[sel]\n",
    "    \n",
    "    # weight \n",
    "    wts = np.load(wtsf)\n",
    "    spec_data_wtd = weightData(spec_data, wts)\n",
    "    \n",
    "    # masses\n",
    "    masses = data['mass_cosmos']\n",
    "    masses = masses[sel]\n",
    "    \n",
    "    return spec_data_wtd, masses"
   ]
  },
  {
   "cell_type": "code",
   "execution_count": 4,
   "id": "a5ca0fbb-c725-414d-956b-86908c33386c",
   "metadata": {},
   "outputs": [],
   "source": [
    "def weightData(data, wts):\n",
    "    mag_data_wtd = []\n",
    "    for i in range(5):\n",
    "        mag_data_wtd.append(data[:,1] *wts )\n",
    "    \n",
    "    return mag_data_wtd"
   ]
  },
  {
   "cell_type": "code",
   "execution_count": 5,
   "id": "a504d4a6-b0ea-46e1-9530-3e3668bb9a6e",
   "metadata": {},
   "outputs": [],
   "source": [
    "# merian range:\n",
    "#   z between 0.058 and 0.1\n",
    "#   log mass between 8 and 9 solar masses"
   ]
  },
  {
   "cell_type": "markdown",
   "id": "b2d7c24d-a164-46aa-a300-c31ec1d46acf",
   "metadata": {},
   "source": [
    "## Getting Merian cut"
   ]
  },
  {
   "cell_type": "code",
   "execution_count": 6,
   "id": "dcc4265a-a47a-48f8-bf93-31365411c5c9",
   "metadata": {},
   "outputs": [],
   "source": [
    "def getMerianRaw(fname):\n",
    "\n",
    "    data = fits.open(fname)[1].data\n",
    "\n",
    "    aphot = 10**(-0.4 * np.c_[data['a_g'], data['a_r'], data['a_i'], \n",
    "                                data['a_z'], data['a_y']])\n",
    "\n",
    "    broad_data = np.c_[data['g_cmodel_mag'],\n",
    "                     data['r_cmodel_mag'],\n",
    "                     data['i_cmodel_mag'],\n",
    "                     data['z_cmodel_mag'],\n",
    "                     data['y_cmodel_mag']] / aphot\n",
    "\n",
    "    err = np.c_[data['g_cmodel_flux_err'],\n",
    "                      data['r_cmodel_flux_err'],\n",
    "                      data['i_cmodel_flux_err'],\n",
    "                      data['z_cmodel_flux_err'],\n",
    "                      data['y_cmodel_flux_err']] / aphot\n",
    "\n",
    "    mask_calib = (err > 0.) & np.isfinite(err) & np.isfinite(broad_data)\n",
    "\n",
    "    # remove any sources with non-detections\n",
    "    sel = mask_calib.sum(axis=1) == 5\n",
    "    broad_data = broad_data[sel]\n",
    "\n",
    "    zees = data['z']\n",
    "    zees = zees[sel]\n",
    "\n",
    "    masses = data['mass_cosmos']\n",
    "    masses = masses[sel]\n",
    "    \n",
    "    #reshape \n",
    "    merian_data = []\n",
    "    for i in range(5):\n",
    "        merian_data.append( broad_data[:,1] )\n",
    "        \n",
    "    # zees and mass\n",
    "    sel = np.where( 0.058 <= zees)\n",
    "    zees = zees[sel]\n",
    "    for i in range(len(merian_data)):\n",
    "        merian_data[i] = merian_data[i][sel[0]]\n",
    "    masses=masses[sel]\n",
    "        \n",
    "    sel = np.where( zees <= 0.1)\n",
    "    zees = zees[sel]\n",
    "    for i in range(len(merian_data)):\n",
    "        merian_data[i] = merian_data[i][sel[0]]\n",
    "    masses = masses[sel]\n",
    "    \n",
    "    # make mass/z cut\n",
    "    sel = np.where(8 <= masses)\n",
    "    masses = masses[sel]\n",
    "    for i in range(len(merian_data)):\n",
    "        merian_data[i] = merian_data[i][sel]\n",
    "    \n",
    "    sel = np.where(masses <= 9)\n",
    "    masses = masses[sel]\n",
    "    for i in range(len(merian_data)):\n",
    "        merian_data[i] = merian_data[i][sel]\n",
    "        \n",
    "    return merian_data, masses"
   ]
  },
  {
   "cell_type": "code",
   "execution_count": 7,
   "id": "a3c1d9b8-7884-494d-b1b4-7082cb581bfc",
   "metadata": {},
   "outputs": [],
   "source": [
    "# first, completeness\n",
    "# remove some things according to their mass"
   ]
  },
  {
   "cell_type": "code",
   "execution_count": 57,
   "id": "884f5839-1b03-436f-9625-1e263c35ed0b",
   "metadata": {},
   "outputs": [],
   "source": [
    "def isDetected(m) :\n",
    "    #p = 0.2 + 0.8*(m-8) #linear with mass\n",
    "    #p = 1 - (m-8.5)**2 #parabolic with mass\n",
    "    p = random.uniform(0,1) #random\n",
    "    if m>=7.9: p=1.0\n",
    "    \n",
    "    r = random.uniform(0,1)\n",
    "    \n",
    "    if r>p:\n",
    "        return False\n",
    "    else:\n",
    "        return True"
   ]
  },
  {
   "cell_type": "code",
   "execution_count": 9,
   "id": "8ab95284-4a3d-4041-8243-c414db38b902",
   "metadata": {},
   "outputs": [],
   "source": [
    "def makeCompletenessCut(data, ms):\n",
    "    remove = []\n",
    "    data_c = []\n",
    "    for i in range(len(data[1])):\n",
    "        isDet = isDetected(ms[i])\n",
    "        if not isDet:\n",
    "            remove.append(i)\n",
    "\n",
    "    for i in range(len(data)):\n",
    "        data_c.append(np.delete(data[i], remove))\n",
    "    masses = np.delete(ms, remove)\n",
    "\n",
    "    return data_c, masses"
   ]
  },
  {
   "cell_type": "code",
   "execution_count": 10,
   "id": "f7267995-6989-47ea-b52b-986380e3633a",
   "metadata": {},
   "outputs": [],
   "source": [
    "# now, purity\n",
    "# add in some random galaxies from z~1"
   ]
  },
  {
   "cell_type": "code",
   "execution_count": 58,
   "id": "7bc3ebdb-1c97-4b9c-a566-f9ee2f5da424",
   "metadata": {},
   "outputs": [],
   "source": [
    "def addImpurity(m):\n",
    "    # p = 0.6 +0.3*(m-8) #linear with mass\n",
    "    p = random.uniform(0,1) #random\n",
    "    \n",
    "    r = random.uniform(0,1)\n",
    "    \n",
    "    if r>p:\n",
    "        return True\n",
    "    else:\n",
    "        return False"
   ]
  },
  {
   "cell_type": "code",
   "execution_count": 12,
   "id": "e5a3e395-3af4-4fcf-b9de-0f112c98f858",
   "metadata": {},
   "outputs": [],
   "source": [
    "def makePurityCut(dataC, fname, masses):\n",
    "\n",
    "    data = fits.open(fname)[1].data\n",
    "\n",
    "    aphot = 10**(-0.4 * np.c_[data['a_g'], data['a_r'], data['a_i'], \n",
    "                                data['a_z'], data['a_y']])\n",
    "\n",
    "    broad_data = np.c_[data['g_cmodel_mag'],\n",
    "                     data['r_cmodel_mag'],\n",
    "                     data['i_cmodel_mag'],\n",
    "                     data['z_cmodel_mag'],\n",
    "                     data['y_cmodel_mag']] / aphot\n",
    "\n",
    "    err = np.c_[data['g_cmodel_flux_err'],\n",
    "                      data['r_cmodel_flux_err'],\n",
    "                      data['i_cmodel_flux_err'],\n",
    "                      data['z_cmodel_flux_err'],\n",
    "                      data['y_cmodel_flux_err']] / aphot\n",
    "\n",
    "    mask_calib = (err > 0.) & np.isfinite(err) & np.isfinite(broad_data)\n",
    "    \n",
    "    zed = np.array(data['z'])\n",
    "    \n",
    "    # remove any sources with non-detections\n",
    "    sel = mask_calib.sum(axis=1) == 5\n",
    "    broad_data = broad_data[sel]\n",
    "    zed = zed[sel]\n",
    "    \n",
    "    # get galaxies at z = 1ish\n",
    "    data = broad_data[zed > 0.8]\n",
    "    zed = zed[zed>0.8]\n",
    "    additives = data[zed < 1.2]\n",
    "    data_p=[]\n",
    "    gees=[]\n",
    "    mazzes = np.copy(masses)\n",
    "    added_masses=[]\n",
    "    \n",
    "    for i in range(len(dataC[1])):\n",
    "        addImp = addImpurity(masses[i])\n",
    "        if addImp:\n",
    "            j = random.randint(0, len(additives)-1)\n",
    "            g = np.c_[additives[:,0][j], additives[:,1][j], additives[:,2][j], additives[:,3][j], \n",
    "                      additives[:,4][j]]\n",
    "            gees.append(g[0])\n",
    "            added_masses.append(masses[i])\n",
    "            mazzes = np.append(mazzes, masses[i])\n",
    "       \n",
    "    gees = np.array(gees)\n",
    "    for k in range(len(dataC)):\n",
    "        data_p.append(np.append(dataC[k], gees[:,k]))\n",
    "    \n",
    "    return data_p, added_masses, mazzes"
   ]
  },
  {
   "cell_type": "markdown",
   "id": "08434cb8-81a8-439e-8f44-e7fa84e84623",
   "metadata": {
    "tags": []
   },
   "source": [
    "## Get LR style data"
   ]
  },
  {
   "cell_type": "code",
   "execution_count": 13,
   "id": "30a094b7-43ee-4799-b23b-144838bbba2c",
   "metadata": {},
   "outputs": [],
   "source": [
    "def getLRData():\n",
    "\n",
    "    # representative \n",
    "    data_specz, massesSpec = getSpeczData(f)\n",
    "    # merian\n",
    "    rawMerian, rawMasses = getMerianRaw(f)\n",
    "    merianC, massesC = makeCompletenessCut(rawMerian, rawMasses)\n",
    "    data_merian, added_masses, massesCP = makePurityCut(merianC, f, massesC)\n",
    "    #np-ify \n",
    "    data_merian = np.array(data_merian)\n",
    "    data_specz = np.array(data_specz)\n",
    "\n",
    "    # get ground truths\n",
    "    # first we need to bin by mass\n",
    "    nbins = 10\n",
    "    slices = np.linspace(rawMasses.min(), rawMasses.max(), nbins, True)\n",
    "\n",
    "    cIdxs = np.digitize(massesC, slices)-1\n",
    "    rawIdxs = np.digitize(rawMasses, slices)-1\n",
    "    addedIdxs = np.digitize(added_masses, slices)-1\n",
    "    cpIdxs = np.digitize(massesCP, slices)-1\n",
    "    \n",
    "    specIdxs = np.digitize(massesSpec, slices)-1\n",
    "\n",
    "    # completeness is len(merianC)/len(rawMerian)\n",
    "    # purity is len(rawMerian)/len(rawMerian+added)\n",
    "    comps= []\n",
    "    purs = []\n",
    "    for i in range(nbins):\n",
    "        b_c = np.array(data_merian[0])[np.where(cIdxs == i)]\n",
    "        b_raw = np.array(rawMerian[0])[np.where(rawIdxs == i)]\n",
    "        b_am = np.array(added_masses)[np.where(addedIdxs == i)]\n",
    "        b_cp = np.array(massesCP)[np.where(cpIdxs == i)]\n",
    "    \n",
    "        comps.append(len(b_c)/len(b_raw))\n",
    "        if len(b_cp >0):\n",
    "            purs.append(1-(len(b_am)/len(b_cp)))\n",
    "        else:\n",
    "            purs.append(0)\n",
    "    \n",
    "    data = []\n",
    "    labels = purs\n",
    "    for b in range(nbins):\n",
    "        fig, axs = plt.subplots(1,5, figsize=(25,5))\n",
    "\n",
    "        heights_m = []\n",
    "        heights_s = []\n",
    "        for band in range(len(data_merian)):\n",
    "            mer = data_merian[band][np.where(cpIdxs == b)]\n",
    "            spec= data_specz[band][np.where(specIdxs == b)]\n",
    "    \n",
    "            h, bins, _ = axs[band].hist(mer, density = True, bins=8)\n",
    "            heights_m.append(h)\n",
    "    \n",
    "            h, _, _ = axs[band].hist(spec, density=True, bins=bins)\n",
    "            heights_s.append(h)\n",
    "    \n",
    "            plt.close()\n",
    "            heights_s[band], heights_m[band]\n",
    "            \n",
    "        binData_s = np.array(heights_s).flatten()\n",
    "        binData_m = np.array(heights_m).flatten()\n",
    "    \n",
    "        div = binData_s/binData_m\n",
    "        div[div>7] = 7\n",
    "        data.append(np.nan_to_num(div))\n",
    "        \n",
    "    return data, labels"
   ]
  },
  {
   "cell_type": "code",
   "execution_count": 14,
   "id": "b5581576-9032-4800-a80c-f9d53e604fb7",
   "metadata": {},
   "outputs": [],
   "source": [
    "def getLRDatas(n):\n",
    "    nData = []\n",
    "    nLabels = []\n",
    "    \n",
    "    for i in range(n):\n",
    "        iData, iLabels = getLRData()\n",
    "        for d in iData:\n",
    "            nData.append(d)\n",
    "        for l in iLabels:\n",
    "            nLabels.append(l)\n",
    "    \n",
    "    return np.array(nData), np.array(nLabels)"
   ]
  },
  {
   "cell_type": "markdown",
   "id": "e9375b13-3d2a-48fa-8d3b-aed27c76ef68",
   "metadata": {},
   "source": [
    "# Make Data"
   ]
  },
  {
   "cell_type": "code",
   "execution_count": 65,
   "id": "10bce370-a527-459a-afe1-2feca2728925",
   "metadata": {
    "tags": []
   },
   "outputs": [
    {
     "name": "stderr",
     "output_type": "stream",
     "text": [
      "/var/folders/js/qxrb9plj563_v0syz958yd8h0000gn/T/ipykernel_13704/4039878333.py:64: RuntimeWarning: invalid value encountered in true_divide\n",
      "  div = binData_s/binData_m\n",
      "/var/folders/js/qxrb9plj563_v0syz958yd8h0000gn/T/ipykernel_13704/4039878333.py:64: RuntimeWarning: divide by zero encountered in true_divide\n",
      "  div = binData_s/binData_m\n"
     ]
    }
   ],
   "source": [
    "data, labels = getLRDatas(1)"
   ]
  },
  {
   "cell_type": "code",
   "execution_count": 66,
   "id": "d4f97380-1504-4484-8ae9-55ace635d3f4",
   "metadata": {},
   "outputs": [],
   "source": [
    "dataSave = 'data/smDiv_n10_data-p.npy'\n",
    "lblSave = 'data/smDiv_n10_label-p.npy'"
   ]
  },
  {
   "cell_type": "code",
   "execution_count": 67,
   "id": "0e1826e3-74e9-4a2f-b72a-f6b118f1227a",
   "metadata": {},
   "outputs": [],
   "source": [
    "np.save(dataSave, data)\n",
    "np.save(lblSave, labels)"
   ]
  },
  {
   "cell_type": "raw",
   "id": "941f32be-d484-4392-b7e9-473c46c7496f",
   "metadata": {},
   "source": []
  }
 ],
 "metadata": {
  "kernelspec": {
   "display_name": "Python 3 (ipykernel)",
   "language": "python",
   "name": "python3"
  },
  "language_info": {
   "codemirror_mode": {
    "name": "ipython",
    "version": 3
   },
   "file_extension": ".py",
   "mimetype": "text/x-python",
   "name": "python",
   "nbconvert_exporter": "python",
   "pygments_lexer": "ipython3",
   "version": "3.9.6"
  }
 },
 "nbformat": 4,
 "nbformat_minor": 5
}
