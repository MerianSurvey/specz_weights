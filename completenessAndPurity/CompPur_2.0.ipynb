{
 "cells": [
  {
   "cell_type": "markdown",
   "id": "4b890fba-e2fa-445b-9dd5-d7fea04601c2",
   "metadata": {},
   "source": [
    "1. takes 2 data set, one is 'merian' and the other is 'truth'\n",
    "2. see what is missing from 'merian' (completeness)\n",
    "3. see what is in 'merian' but not 'truth' (purity)"
   ]
  },
  {
   "cell_type": "code",
   "execution_count": 2,
   "id": "7da04d3e-36e7-4440-a2e6-1349ba8d5581",
   "metadata": {},
   "outputs": [],
   "source": [
    "import numpy as np\n",
    "import matplotlib\n",
    "from matplotlib import pyplot as plt\n",
    "from astropy.io import fits\n",
    "\n",
    "import random"
   ]
  },
  {
   "cell_type": "code",
   "execution_count": 3,
   "id": "8fde9aca-08a6-4a90-b50d-b22c4222b8d0",
   "metadata": {},
   "outputs": [],
   "source": [
    "f = '/Users/josephwick/Documents/Data/merian/COSMOS2015_r23.6_SOM_v3.fits'\n",
    "wtsf = '../speczWeights/specz-weights.npy'"
   ]
  },
  {
   "cell_type": "code",
   "execution_count": 4,
   "id": "7ec2c311-81e4-419f-8ed8-bdf9ffde5c87",
   "metadata": {},
   "outputs": [],
   "source": [
    "def getSpeczData(fname):\n",
    "    data = fits.open(fname)[1].data\n",
    "    data = data[data['z_type']==1]\n",
    "\n",
    "    aphot = 10**(-0.4 * np.c_[data['a_g'], data['a_r'], data['a_i'], \n",
    "                                data['a_z'], data['a_y']])\n",
    "\n",
    "    spec_data = np.c_[data['g_cmodel_mag'],\n",
    "                     data['r_cmodel_mag'],\n",
    "                     data['i_cmodel_mag'],\n",
    "                     data['z_cmodel_mag'],\n",
    "                     data['y_cmodel_mag']] / aphot\n",
    "\n",
    "    err = np.c_[data['g_cmodel_flux_err'],\n",
    "                      data['r_cmodel_flux_err'],\n",
    "                      data['i_cmodel_flux_err'],\n",
    "                      data['z_cmodel_flux_err'],\n",
    "                      data['y_cmodel_flux_err']] / aphot\n",
    "\n",
    "    mask_calib = (err > 0.) & np.isfinite(err) & np.isfinite(spec_data)\n",
    "\n",
    "    # remove any sources with non-detections\n",
    "    sel = mask_calib.sum(axis=1) == 5\n",
    "    spec_data = spec_data[sel]\n",
    "    \n",
    "    # weight \n",
    "    wts = np.load(wtsf)\n",
    "    spec_data_wtd = weightData(spec_data, wts)\n",
    "    \n",
    "    # masses\n",
    "    masses = data['mass_cosmos']\n",
    "    masses = masses[sel]\n",
    "    \n",
    "    return spec_data_wtd, masses"
   ]
  },
  {
   "cell_type": "code",
   "execution_count": 5,
   "id": "27d36049-44e8-4255-92b6-6ad6a6c5c2f4",
   "metadata": {},
   "outputs": [],
   "source": [
    "def weightData(data, wts):\n",
    "    mag_data_wtd = []\n",
    "    for i in range(5):\n",
    "        mag_data_wtd.append(data[:,1] *wts )\n",
    "    \n",
    "    return mag_data_wtd"
   ]
  },
  {
   "cell_type": "code",
   "execution_count": 6,
   "id": "39edf748-42b5-44ef-ad66-0466842e6e26",
   "metadata": {},
   "outputs": [],
   "source": [
    "# merian range:\n",
    "#   z between 0.058 and 0.1\n",
    "#   log mass between 8 and 9 solar masses"
   ]
  },
  {
   "cell_type": "code",
   "execution_count": 7,
   "id": "736d7cb9-5379-4500-86f1-da862dc812cc",
   "metadata": {},
   "outputs": [],
   "source": [
    "def getMerianRaw(fname):\n",
    "\n",
    "    data = fits.open(fname)[1].data\n",
    "\n",
    "    aphot = 10**(-0.4 * np.c_[data['a_g'], data['a_r'], data['a_i'], \n",
    "                                data['a_z'], data['a_y']])\n",
    "\n",
    "    broad_data = np.c_[data['g_cmodel_mag'],\n",
    "                     data['r_cmodel_mag'],\n",
    "                     data['i_cmodel_mag'],\n",
    "                     data['z_cmodel_mag'],\n",
    "                     data['y_cmodel_mag']] / aphot\n",
    "\n",
    "    err = np.c_[data['g_cmodel_flux_err'],\n",
    "                      data['r_cmodel_flux_err'],\n",
    "                      data['i_cmodel_flux_err'],\n",
    "                      data['z_cmodel_flux_err'],\n",
    "                      data['y_cmodel_flux_err']] / aphot\n",
    "\n",
    "    mask_calib = (err > 0.) & np.isfinite(err) & np.isfinite(broad_data)\n",
    "\n",
    "    # remove any sources with non-detections\n",
    "    sel = mask_calib.sum(axis=1) == 5\n",
    "    broad_data = broad_data[sel]\n",
    "\n",
    "    zees = data['z']\n",
    "    zees = zees[sel]\n",
    "\n",
    "    masses = data['mass_cosmos']\n",
    "    masses = masses[sel]\n",
    "    IDs = data['HSC_object_id']\n",
    "    IDs = IDs[sel]\n",
    "    \n",
    "    #reshape \n",
    "    merian_data = []\n",
    "    for i in range(5):\n",
    "        merian_data.append( broad_data[:,1] )\n",
    "        \n",
    "    # zees and mass\n",
    "    sel = np.where( 0.058 <= zees)\n",
    "    zees = zees[sel]\n",
    "    for i in range(len(merian_data)):\n",
    "        merian_data[i] = merian_data[i][sel[0]]\n",
    "    masses=masses[sel]\n",
    "    IDs = IDs[sel]\n",
    "        \n",
    "    sel = np.where( zees <= 0.1)\n",
    "    zees = zees[sel]\n",
    "    for i in range(len(merian_data)):\n",
    "        merian_data[i] = merian_data[i][sel[0]]\n",
    "    masses = masses[sel]\n",
    "    IDs = IDs[sel]\n",
    "    \n",
    "    # make mass/z cut\n",
    "    sel = np.where(8 <= masses)\n",
    "    masses = masses[sel]\n",
    "    IDs = IDs[sel]\n",
    "    for i in range(len(merian_data)):\n",
    "        merian_data[i] = merian_data[i][sel]\n",
    "    \n",
    "    sel = np.where(masses <= 9)\n",
    "    masses = masses[sel]\n",
    "    IDs = IDs[sel]\n",
    "    for i in range(len(merian_data)):\n",
    "        merian_data[i] = merian_data[i][sel]\n",
    "        \n",
    "    return merian_data, masses, IDs"
   ]
  },
  {
   "cell_type": "code",
   "execution_count": 8,
   "id": "843d0d02-5dc2-430c-9425-9895e297a42d",
   "metadata": {},
   "outputs": [],
   "source": [
    "# first, completeness\n",
    "# remove some things according to their mass"
   ]
  },
  {
   "cell_type": "code",
   "execution_count": 9,
   "id": "a4658a66-9b7b-4899-94d2-c56aa361d0a2",
   "metadata": {},
   "outputs": [],
   "source": [
    "def isDetected(m) :\n",
    "    p = 0.2 + 0.8*(m-8)\n",
    "    r = random.uniform(0,1)\n",
    "    \n",
    "    if r>p:\n",
    "        return False\n",
    "    else:\n",
    "        return True"
   ]
  },
  {
   "cell_type": "code",
   "execution_count": 10,
   "id": "bc548a13-a614-4d36-a979-abe60dc06a22",
   "metadata": {},
   "outputs": [],
   "source": [
    "def makeCompletenessCut(data, ms, ids):\n",
    "    remove = []\n",
    "    data_c = []\n",
    "    for i in range(len(data[1])):\n",
    "        isDet = isDetected(ms[i])\n",
    "        if not isDet:\n",
    "            remove.append(i)\n",
    "\n",
    "    for i in range(len(data)):\n",
    "        data_c.append(np.delete(data[i], remove))\n",
    "    masses = np.delete(ms, remove)\n",
    "    IDs = np.delete(ids, remove)\n",
    "\n",
    "    return data_c, masses, IDs"
   ]
  },
  {
   "cell_type": "code",
   "execution_count": 11,
   "id": "743b850d-e445-420c-8b9c-a67d62790b24",
   "metadata": {},
   "outputs": [],
   "source": [
    "# now, purity\n",
    "# add in some random galaxies from z~1"
   ]
  },
  {
   "cell_type": "code",
   "execution_count": 12,
   "id": "2d9d87af-ac95-40ab-aa7d-29b0b44e0ea3",
   "metadata": {},
   "outputs": [],
   "source": [
    "def addImpurity(m):\n",
    "    p = 0.6 +0.3*(m-8)\n",
    "    r = random.uniform(0,1)\n",
    "    \n",
    "    if r>p:\n",
    "        return True\n",
    "    else:\n",
    "        return False"
   ]
  },
  {
   "cell_type": "code",
   "execution_count": 13,
   "id": "fb422eb7-cb37-4fb1-b9a2-bd8876d12dfa",
   "metadata": {},
   "outputs": [],
   "source": [
    "def makePurityCut(dataC, fname, masses, ids):\n",
    "\n",
    "    data = fits.open(fname)[1].data\n",
    "    data = data[data['z'] > 0.8]\n",
    "    additives = data[data['z'] < 1.2]\n",
    "    data_p=[]\n",
    "    gees=[]\n",
    "    mazzes = np.copy(masses)\n",
    "    IDs = np.copy(ids)\n",
    "    added_masses=[]\n",
    "    added_ids=[]\n",
    "    \n",
    "    for i in range(len(dataC[1])):\n",
    "        addImp = addImpurity(masses[i])\n",
    "        if addImp:\n",
    "            j = random.randint(0, len(additives)-1)\n",
    "            g = np.c_[additives['g_cmodel_mag'][j], additives['r_cmodel_mag'][j], additives['i_cmodel_mag'][j], additives['z_cmodel_mag'][j], \n",
    "                      additives['g_cmodel_mag'][j]]\n",
    "            gees.append(g[0])\n",
    "            added_masses.append(masses[i])\n",
    "            added_ids.append(additives['HSC_object_id'][i])\n",
    "            mazzes = np.append(mazzes, masses[i])\n",
    "            IDs = np.append(IDs, additives['HSC_object_id'][i])\n",
    "       \n",
    "    gees = np.array(gees)\n",
    "    for k in range(len(dataC)):\n",
    "        data_p.append(np.append(dataC[k], gees[:,k]))\n",
    "    \n",
    "    return data_p, added_masses, mazzes, IDs"
   ]
  },
  {
   "cell_type": "code",
   "execution_count": 14,
   "id": "34567665-0904-4b73-aa25-826f0fef31b7",
   "metadata": {},
   "outputs": [],
   "source": [
    "# representative\n",
    "data_specz, massesSpec = getSpeczData(f)"
   ]
  },
  {
   "cell_type": "code",
   "execution_count": 15,
   "id": "f7c54035-8778-48ae-a8cd-282c2c7cda9d",
   "metadata": {},
   "outputs": [],
   "source": [
    "# merian\n",
    "rawMerian, rawMasses, rawIDs = getMerianRaw(f)\n",
    "merianC, massesC, IDsC = makeCompletenessCut(rawMerian, rawMasses, rawIDs)\n",
    "data_merian, added_masses, massesCP, IDsCP = makePurityCut(merianC, f, massesC, IDsC)"
   ]
  },
  {
   "cell_type": "code",
   "execution_count": 16,
   "id": "41a56cc2-444e-437c-97ea-1d63deec9a1e",
   "metadata": {},
   "outputs": [],
   "source": [
    "# hsc mag data for each galaxy\n",
    "data_merian = np.array(data_merian)\n",
    "data_specz = np.array(data_specz)"
   ]
  },
  {
   "cell_type": "markdown",
   "id": "637b302b-9585-443d-b868-12dd4262ae0d",
   "metadata": {},
   "source": [
    "# Figure"
   ]
  },
  {
   "cell_type": "code",
   "execution_count": 17,
   "id": "ba7cc3f9-4d06-4f5d-b6e3-43312887925e",
   "metadata": {},
   "outputs": [],
   "source": [
    "# first we need to bin by mass\n",
    "nbins = 10\n",
    "slices = np.linspace(rawMasses.min(), rawMasses.max(), nbins, True)\n",
    "\n",
    "cIdxs = np.digitize(massesC, slices)-1\n",
    "rawIdxs = np.digitize(rawMasses, slices)-1\n",
    "addedIdxs = np.digitize(added_masses, slices)-1\n",
    "cpIdxs = np.digitize(massesCP, slices)-1\n",
    "\n",
    "specIdxs = np.digitize(massesSpec, slices)-1"
   ]
  },
  {
   "cell_type": "code",
   "execution_count": 18,
   "id": "caf381b4-4612-42a7-b6cd-c7e8703aa2aa",
   "metadata": {},
   "outputs": [
    {
     "data": {
      "image/png": "[encoded data removed]",
      "text/plain": [
       "<Figure size 864x432 with 2 Axes>"
      ]
     },
     "metadata": {
      "needs_background": "light"
     },
     "output_type": "display_data"
    }
   ],
   "source": [
    "# completeness is len(merianC)/len(rawMerian)\n",
    "# purity is len(rawMerian)/len(rawMerian+added)\n",
    "\n",
    "comps= []\n",
    "purs = []\n",
    "for i in range(nbins):\n",
    "    b_c = np.array(data_merian[0])[np.where(cIdxs == i)]\n",
    "    b_raw = np.array(rawMerian[0])[np.where(rawIdxs == i)]\n",
    "    b_am = np.array(added_masses)[np.where(addedIdxs == i)]\n",
    "    b_cp = np.array(massesCP)[np.where(cpIdxs == i)]\n",
    "    \n",
    "    comps.append(len(b_c)/len(b_raw))\n",
    "    purs.append(1-(len(b_am)/len(b_cp)))\n",
    "    \n",
    "fig, axs = plt.subplots(1,2, figsize=(12,6))\n",
    "\n",
    "x = np.linspace(0,nbins, nbins)\n",
    "axs[0].bar(x,comps, width=1.12)\n",
    "\n",
    "axs[1].bar(x,purs, width=1.12)\n",
    "\n",
    "# prettify\n",
    "axs[0].title.set_text('Completeness')\n",
    "axs[1].title.set_text('purity')\n",
    "\n",
    "plt.savefig('CompPur.jpg')"
   ]
  },
  {
   "cell_type": "markdown",
   "id": "8d515b38-525d-4abd-82db-ad1698e781ad",
   "metadata": {},
   "source": [
    "# Now recreating the figure without knowing the truth "
   ]
  },
  {
   "cell_type": "code",
   "execution_count": 19,
   "id": "3f68a272-2ae1-4d6c-9756-6fc135bc5ba8",
   "metadata": {},
   "outputs": [],
   "source": [
    "# Our two data sets\n",
    "# truth  is rawMerian, rawMass, rawIDs\n",
    "# 'merian' is data_merian, massesCP, IDsCP"
   ]
  },
  {
   "cell_type": "code",
   "execution_count": 20,
   "id": "c0d3991b-1601-459f-b25d-6488fa94edd2",
   "metadata": {},
   "outputs": [],
   "source": [
    "# first we need to bin by mass\n",
    "nbins = 10\n",
    "slices = np.linspace(rawMasses.min(), rawMasses.max(), nbins, True)\n",
    "\n",
    "rawIdxs = np.digitize(rawMasses, slices)-1\n",
    "cpIdxs = np.digitize(massesCP, slices)-1"
   ]
  },
  {
   "cell_type": "code",
   "execution_count": 21,
   "id": "43ea9233-cf07-4181-be67-62b9b2070f0d",
   "metadata": {},
   "outputs": [],
   "source": [
    "comps_2 = []\n",
    "purs_2 = []\n",
    "for i in range(nbins):\n",
    "    bIDs_raw = np.array(rawIDs)[np.where(rawIdxs == i)]\n",
    "    bIDs_mer = np.array(IDsCP)[np.where(cpIdxs == i)]\n",
    "    \n",
    "    a = 0     # number of merian galaxies in truth table \n",
    "    b = 0     # number of merian galaxies NOT in truth table \n",
    "    for ID in bIDs_mer:\n",
    "        if ID in bIDs_raw:\n",
    "            a+=1\n",
    "        else: \n",
    "            b+=1\n",
    "            \n",
    "    c = 0     # number of truth galaxies NOT in merian\n",
    "    for ID in bIDs_raw:\n",
    "        if ID not in bIDs_mer:\n",
    "            c += 1\n",
    "            \n",
    "    comps_2.append(a/len(bIDs_raw))\n",
    "    purs_2.append(1 - (b/len(bIDs_mer)))"
   ]
  },
  {
   "cell_type": "code",
   "execution_count": 22,
   "id": "aa70a2b0-16cd-45ed-8a48-3fb104409ea1",
   "metadata": {},
   "outputs": [
    {
     "data": {
      "image/png": "[encoded data removed]",
      "text/plain": [
       "<Figure size 864x432 with 2 Axes>"
      ]
     },
     "metadata": {
      "needs_background": "light"
     },
     "output_type": "display_data"
    }
   ],
   "source": [
    "fig, axs = plt.subplots(1,2, figsize=(12,6))\n",
    "\n",
    "x = np.linspace(0,nbins, nbins)\n",
    "axs[0].bar(x,comps_2, width=1.12, color='tab:orange')\n",
    "\n",
    "axs[1].bar(x,purs_2, width=1.12, color='tab:orange')\n",
    "\n",
    "# prettify\n",
    "axs[0].title.set_text('Completeness')\n",
    "axs[1].title.set_text('purity')\n",
    "\n",
    "plt.savefig('CompPur.jpg')"
   ]
  },
  {
   "cell_type": "markdown",
   "id": "dacccb4b-f2e6-4e7d-ba24-989b12043b36",
   "metadata": {},
   "source": [
    "# Compare the figs"
   ]
  },
  {
   "cell_type": "code",
   "execution_count": 23,
   "id": "e1967ed4-7edb-4977-a287-a5036623cb4b",
   "metadata": {},
   "outputs": [
    {
     "data": {
      "image/png": "[encoded data removed]",
      "text/plain": [
       "<Figure size 864x864 with 4 Axes>"
      ]
     },
     "metadata": {
      "needs_background": "light"
     },
     "output_type": "display_data"
    }
   ],
   "source": [
    "fig, axs = plt.subplots(2,2, figsize=(12,12))\n",
    "\n",
    "x = np.linspace(0, nbins, nbins)\n",
    "axs[0,0].bar(x, comps, width=1.12, color='tab:blue')\n",
    "axs[0,1].bar(x, purs, width=1.12, color='tab:blue')\n",
    "\n",
    "axs[1,0].bar(x, comps_2, width=1.12, color='tab:orange')\n",
    "axs[1,1].bar(x, purs_2, width=1.12, color='tab:orange')\n",
    "\n",
    "# prettify \n",
    "plt.suptitle('Completeness & Purity', fontsize=22)\n",
    "axs[0,0].title.set_text('known completeness')\n",
    "axs[0,1].title.set_text('known purity')\n",
    "axs[1,0].title.set_text('recreated completeness')\n",
    "axs[1,1].title.set_text('recreated purity')\n",
    "\n",
    "plt.savefig('compPur2.0.jpg')"
   ]
  },
  {
   "cell_type": "code",
   "execution_count": null,
   "id": "f6d0b68f-18dd-460f-a992-664f38584861",
   "metadata": {},
   "outputs": [],
   "source": []
  },
  {
   "cell_type": "code",
   "execution_count": null,
   "id": "ef14a572-e7d2-4cb6-96b7-8045f5be17fa",
   "metadata": {},
   "outputs": [],
   "source": []
  }
 ],
 "metadata": {
  "kernelspec": {
   "display_name": "Python 3 (ipykernel)",
   "language": "python",
   "name": "python3"
  },
  "language_info": {
   "codemirror_mode": {
    "name": "ipython",
    "version": 3
   },
   "file_extension": ".py",
   "mimetype": "text/x-python",
   "name": "python",
   "nbconvert_exporter": "python",
   "pygments_lexer": "ipython3",
   "version": "3.9.6"
  }
 },
 "nbformat": 4,
 "nbformat_minor": 5
}
